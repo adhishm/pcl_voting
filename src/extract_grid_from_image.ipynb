{
 "cells": [
  {
   "cell_type": "markdown",
   "id": "e92ac85c",
   "metadata": {},
   "source": [
    "# Extract straightened grid from image"
   ]
  },
  {
   "cell_type": "code",
   "execution_count": null,
   "id": "3ed3b51b",
   "metadata": {},
   "outputs": [],
   "source": [
    "from image_utils import align_and_crop_grid"
   ]
  },
  {
   "cell_type": "code",
   "execution_count": null,
   "id": "43b778b1",
   "metadata": {},
   "outputs": [],
   "source": [
    "import glob\n",
    "\n",
    "image_files = glob.glob(\"./../datasets/metal/IMG_*.jpeg\")\n",
    "image_files"
   ]
  },
  {
   "cell_type": "code",
   "execution_count": null,
   "id": "5521547f",
   "metadata": {},
   "outputs": [],
   "source": [
    "from tqdm.auto import tqdm\n",
    "\n",
    "for file in tqdm(image_files):\n",
    "    try:\n",
    "        # Read the original image for display\n",
    "        original = cv2.imread(file)\n",
    "        warped = align_and_crop_grid(\n",
    "            image_path=file,\n",
    "            output_size=(900, 900)\n",
    "        )\n",
    "\n",
    "        # Convert images from BGR to RGB for correct display\n",
    "        original_rgb = cv2.cvtColor(original, cv2.COLOR_BGR2RGB)\n",
    "        warped_rgb = cv2.cvtColor(warped, cv2.COLOR_BGR2RGB)\n",
    "\n",
    "        fig, axes = plt.subplots(1, 2, figsize=(12, 6))\n",
    "        axes[0].imshow(original_rgb)\n",
    "        axes[0].set_title('Original')\n",
    "        axes[0].axis('off')\n",
    "\n",
    "        axes[1].imshow(warped_rgb)\n",
    "    except Exception as e:\n",
    "        print(f\"Exception when processing file {file}: {e}\")\n",
    "        continue\n",
    "    "
   ]
  },
  {
   "cell_type": "code",
   "execution_count": null,
   "id": "2e116169",
   "metadata": {},
   "outputs": [],
   "source": []
  }
 ],
 "metadata": {
  "kernelspec": {
   "display_name": "Python 3",
   "language": "python",
   "name": "python3"
  },
  "language_info": {
   "codemirror_mode": {
    "name": "ipython",
    "version": 3
   },
   "file_extension": ".py",
   "mimetype": "text/x-python",
   "name": "python",
   "nbconvert_exporter": "python",
   "pygments_lexer": "ipython3",
   "version": "3.9.6"
  }
 },
 "nbformat": 4,
 "nbformat_minor": 5
}
