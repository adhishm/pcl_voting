{
 "cells": [
  {
   "cell_type": "markdown",
   "id": "0",
   "metadata": {},
   "source": [
    "# Extract straightened grid from image"
   ]
  },
  {
   "cell_type": "code",
   "execution_count": null,
   "id": "1",
   "metadata": {},
   "outputs": [],
   "source": [
    "import glob\n",
    "\n",
    "image_files = glob.glob(\"./../datasets/metal/IMG_*.jpeg\")\n",
    "image_files"
   ]
  },
  {
   "cell_type": "code",
   "execution_count": null,
   "id": "2",
   "metadata": {},
   "outputs": [],
   "source": [
    "from tqdm.auto import tqdm\n",
    "import cv2\n",
    "from image_utils import align_and_crop_grid, plot_original_and_aligned, crop_center\n",
    "\n",
    "for file in tqdm(image_files):\n",
    "    try:\n",
    "        # Read the original image for display\n",
    "        original = cv2.imread(file)\n",
    "        warped = align_and_crop_grid(\n",
    "            image_path=file,\n",
    "            output_size=(900, 900)\n",
    "        )\n",
    "        cropped = crop_center(\n",
    "            img=warped,\n",
    "            cropx=700,\n",
    "            cropy=700\n",
    "        )\n",
    "        plot_original_and_aligned(\n",
    "            original_image=original,\n",
    "            aligned_image=cropped\n",
    "        )\n",
    "    except Exception as e:\n",
    "        print(f\"Exception when processing file {file}: {e}\")\n",
    "        continue\n",
    "    "
   ]
  },
  {
   "cell_type": "code",
   "execution_count": null,
   "id": "3",
   "metadata": {},
   "outputs": [],
   "source": []
  }
 ],
 "metadata": {
  "kernelspec": {
   "display_name": "Python 3",
   "language": "python",
   "name": "python3"
  },
  "language_info": {
   "codemirror_mode": {
    "name": "ipython",
    "version": 3
   },
   "file_extension": ".py",
   "mimetype": "text/x-python",
   "name": "python",
   "nbconvert_exporter": "python",
   "pygments_lexer": "ipython3",
   "version": "3.9.6"
  }
 },
 "nbformat": 4,
 "nbformat_minor": 5
}
