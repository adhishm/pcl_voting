{
 "cells": [
  {
   "cell_type": "markdown",
   "id": "0",
   "metadata": {},
   "source": [
    "# Process Individual Vote Sheet"
   ]
  },
  {
   "cell_type": "markdown",
   "id": "1",
   "metadata": {},
   "source": [
    "## Select image to read"
   ]
  },
  {
   "cell_type": "code",
   "execution_count": null,
   "id": "2",
   "metadata": {},
   "outputs": [],
   "source": [
    "# Select a random image\n",
    "import glob\n",
    "import random\n",
    "\n",
    "files = glob.glob('./../datasets/metal/IMG_*.jpeg')\n",
    "file = random.choice(files)\n",
    "\n",
    "print(f\"Selected file: {file}\")"
   ]
  },
  {
   "cell_type": "markdown",
   "id": "3",
   "metadata": {},
   "source": [
    "## Preprocess image"
   ]
  },
  {
   "cell_type": "code",
   "execution_count": null,
   "id": "4",
   "metadata": {},
   "outputs": [],
   "source": [
    "# straighten and align the grid\n",
    "from image_utils import align_and_crop_grid, plot_original_and_aligned, crop_center\n",
    "\n",
    "# display the aligned file\n",
    "import cv2\n",
    "\n",
    "aligned_image = align_and_crop_grid(\n",
    "    image_path=file,\n",
    "    output_size=(900, 900)\n",
    ")\n",
    "cropped = crop_center(\n",
    "    img=aligned_image,\n",
    "    cropx=700,\n",
    "    cropy=700\n",
    ")\n",
    "\n",
    "original_image = cv2.imread(file)\n",
    "\n",
    "plot_original_and_aligned(\n",
    "    original_image=original_image,\n",
    "    aligned_image=cropped\n",
    ")"
   ]
  },
  {
   "cell_type": "markdown",
   "id": "5",
   "metadata": {},
   "source": [
    "## Model traininng\n",
    "Only run this once."
   ]
  },
  {
   "cell_type": "code",
   "execution_count": null,
   "id": "6",
   "metadata": {},
   "outputs": [],
   "source": [
    "# mnist model\n",
    "from mnist_model import train_and_save_mnist_model\n",
    "train_and_save_mnist_model(model_path='./mnist_model.h5')"
   ]
  },
  {
   "cell_type": "markdown",
   "id": "7",
   "metadata": {},
   "source": [
    "## Recognize numbers"
   ]
  },
  {
   "cell_type": "code",
   "execution_count": null,
   "id": "8",
   "metadata": {},
   "outputs": [],
   "source": [
    "# recognize numbers\n",
    "from read_numbers import read_grid_numbers\n",
    "\n",
    "numbers = read_grid_numbers(\n",
    "    image=aligned_image,\n",
    "    grid_size=(25, 6),\n",
    "    model_path='./mnist_model.h5'\n",
    ")"
   ]
  },
  {
   "cell_type": "code",
   "execution_count": null,
   "id": "9",
   "metadata": {},
   "outputs": [],
   "source": [
    "import pytesseract"
   ]
  },
  {
   "cell_type": "code",
   "execution_count": null,
   "id": "10",
   "metadata": {},
   "outputs": [],
   "source": [
    "pytesseract.pytesseract.tesseract_cmd = '/opt/homebrew/bin/tesseract'"
   ]
  },
  {
   "cell_type": "code",
   "execution_count": null,
   "id": "11",
   "metadata": {},
   "outputs": [],
   "source": [
    "numbers"
   ]
  },
  {
   "cell_type": "code",
   "execution_count": null,
   "id": "12",
   "metadata": {},
   "outputs": [],
   "source": [
    "plot_original_and_aligned(\n",
    "    original_image=original_image,\n",
    "    aligned_image=cropped\n",
    ")"
   ]
  },
  {
   "cell_type": "code",
   "execution_count": null,
   "id": "13",
   "metadata": {},
   "outputs": [],
   "source": []
  }
 ],
 "metadata": {
  "kernelspec": {
   "display_name": "Python 3",
   "language": "python",
   "name": "python3"
  },
  "language_info": {
   "codemirror_mode": {
    "name": "ipython",
    "version": 3
   },
   "file_extension": ".py",
   "mimetype": "text/x-python",
   "name": "python",
   "nbconvert_exporter": "python",
   "pygments_lexer": "ipython3",
   "version": "3.9.6"
  }
 },
 "nbformat": 4,
 "nbformat_minor": 5
}
